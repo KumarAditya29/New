{
  "nbformat": 4,
  "nbformat_minor": 0,
  "metadata": {
    "colab": {
      "provenance": [],
      "authorship_tag": "ABX9TyNEwauF4nbr6tSupxmuhJvz",
      "include_colab_link": true
    },
    "kernelspec": {
      "name": "python3",
      "display_name": "Python 3"
    },
    "language_info": {
      "name": "python"
    }
  },
  "cells": [
    {
      "cell_type": "markdown",
      "metadata": {
        "id": "view-in-github",
        "colab_type": "text"
      },
      "source": [
        "<a href=\"https://colab.research.google.com/github/KumarAditya29/New/blob/main/Perceptron_updt.ipynb\" target=\"_parent\"><img src=\"https://colab.research.google.com/assets/colab-badge.svg\" alt=\"Open In Colab\"/></a>"
      ]
    },
    {
      "cell_type": "code",
      "execution_count": 1,
      "metadata": {
        "colab": {
          "base_uri": "https://localhost:8080/"
        },
        "id": "aHaLyQ9iVtyT",
        "outputId": "37628dfe-b7fa-4cfd-f2e8-bbf6c148fa5c"
      },
      "outputs": [
        {
          "output_type": "stream",
          "name": "stdout",
          "text": [
            "XOR(0, 1) = 1 (Expected: 0)\n",
            "Updated weights: (array([1. , 0.9]), -1.6, array([1. , 0.9]), -0.6, -1.0, 0.5)\n",
            "XOR(1, 1) = 0 (Expected: 1)\n",
            "Updated weights: (array([1.1, 1.1]), -1.4, array([1.1, 1.1]), -0.4, -0.9, 0.5)\n",
            "All weights are correct!\n"
          ]
        }
      ],
      "source": [
        "import numpy as np\n",
        "def unitStep(v):\n",
        "    return 1 if v >= 0 else 0\n",
        "def perceptronModel(x, w, b):\n",
        "    v = np.dot(w, x) + b\n",
        "    y = unitStep(v)\n",
        "    return y\n",
        "def NOT_logicFunction(x, wNOT, bNOT):\n",
        "    return perceptronModel(x, wNOT, bNOT)\n",
        "def AND_logicFunction(x, wAND, bAND):\n",
        "    return perceptronModel(x, wAND, bAND)\n",
        "def OR_logicFunction(x, wOR, bOR):\n",
        "    return perceptronModel(x, wOR, bOR)\n",
        "def XOR_logicFunction(x, wAND, bAND, wOR, bOR, wNOT, bNOT):\n",
        "    y1 = AND_logicFunction(x, wAND, bAND)\n",
        "    y2 = OR_logicFunction(x, wOR, bOR)\n",
        "    y3 = NOT_logicFunction(y1, wNOT, bNOT)\n",
        "    final_x = np.array([y2, y3])\n",
        "    finalOutput = AND_logicFunction(final_x, wAND, bAND)\n",
        "    return finalOutput\n",
        "def check_weights(weights):\n",
        "    test_cases = [\n",
        "        (np.array([0, 0]), 0),\n",
        "        (np.array([0, 1]), 1),\n",
        "        (np.array([1, 0]), 1),\n",
        "        (np.array([1, 1]), 0)\n",
        "    ]\n",
        "    weights_correct = True\n",
        "    for x, expected in test_cases:\n",
        "        result = XOR_logicFunction(x, *weights)\n",
        "        if result != expected:\n",
        "            weights_correct = False\n",
        "            print(f\"Weight or bias error for input {x}. Expected {expected}, got {result}.\")\n",
        "            update_weights(weights, x, expected, result)\n",
        "    if weights_correct:\n",
        "        print(\"All weights are correct!\")\n",
        "def update_weights(weights, x, expected, result):\n",
        "    learning_rate = 0.1\n",
        "    wAND, bAND, wOR, bOR, wNOT, bNOT = weights\n",
        "    wAND = wAND.astype(float)\n",
        "    wOR = wOR.astype(float)\n",
        "    wNOT = float(wNOT)\n",
        "    bAND = float(bAND)\n",
        "    bOR = float(bOR)\n",
        "    bNOT = float(bNOT)\n",
        "    if expected != result:\n",
        "        error = expected - result\n",
        "        wAND += learning_rate * error * x\n",
        "        bAND += learning_rate * error\n",
        "    if expected != result:\n",
        "        wOR += learning_rate * error * x\n",
        "        bOR += learning_rate * error\n",
        "    if expected != result:\n",
        "        wNOT += learning_rate * error * (1 - result)\n",
        "    print(\"Updated weights:\", (wAND, bAND, wOR, bOR, wNOT, bNOT))\n",
        "weights = (\n",
        "    np.array([1.0, 1.0]),\n",
        "    -1.5,\n",
        "    np.array([1.0, 1.0]),\n",
        "    -0.5,\n",
        "    -1.0,\n",
        "    0.5\n",
        ")\n",
        "wrong_inputs = [\n",
        "    (np.array([0, 1]), 0),\n",
        "    (np.array([1, 1]), 1),\n",
        "]\n",
        "for x, expected in wrong_inputs:\n",
        "    result = XOR_logicFunction(x, *weights)\n",
        "    print(f\"XOR({x[0]}, {x[1]}) = {result} (Expected: {expected})\")\n",
        "    if result != expected:\n",
        "        update_weights(weights, x, expected, result)\n",
        "check_weights(weights)"
      ]
    }
  ]
}